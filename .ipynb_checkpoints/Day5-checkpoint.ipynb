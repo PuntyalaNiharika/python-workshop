{
 "cells": [
  {
   "cell_type": "markdown",
   "metadata": {},
   "source": [
    "# Regular Expression\n",
    "\n",
    "# OOps\n",
    "\n",
    "# Numpy\n",
    "\n",
    "# matplotlib\n",
    "\n",
    "# pandas"
   ]
  },
  {
   "cell_type": "markdown",
   "metadata": {},
   "source": [
    "# Regular Expression\n",
    "\n",
    "- to check the daata is valid or not\n",
    "\n"
   ]
  },
  {
   "cell_type": "code",
   "execution_count": 12,
   "metadata": {},
   "outputs": [
    {
     "name": "stdout",
     "output_type": "stream",
     "text": [
      "<class 'str'>\n",
      "<class 'str'>\n",
      "aca\n",
      "<class 'str'>\n"
     ]
    }
   ],
   "source": [
    "l=['abc','aca','adc']\n",
    "for i in l:\n",
    "    print(type(i))\n",
    "    if i.endswith('a') and i.startswith('a'):\n",
    "        print(i)"
   ]
  },
  {
   "cell_type": "code",
   "execution_count": 14,
   "metadata": {},
   "outputs": [
    {
     "data": {
      "text/plain": [
       "['A',\n",
       " 'ASCII',\n",
       " 'DEBUG',\n",
       " 'DOTALL',\n",
       " 'I',\n",
       " 'IGNORECASE',\n",
       " 'L',\n",
       " 'LOCALE',\n",
       " 'M',\n",
       " 'MULTILINE',\n",
       " 'RegexFlag',\n",
       " 'S',\n",
       " 'Scanner',\n",
       " 'T',\n",
       " 'TEMPLATE',\n",
       " 'U',\n",
       " 'UNICODE',\n",
       " 'VERBOSE',\n",
       " 'X',\n",
       " '_MAXCACHE',\n",
       " '__all__',\n",
       " '__builtins__',\n",
       " '__cached__',\n",
       " '__doc__',\n",
       " '__file__',\n",
       " '__loader__',\n",
       " '__name__',\n",
       " '__package__',\n",
       " '__spec__',\n",
       " '__version__',\n",
       " '_alphanum_bytes',\n",
       " '_alphanum_str',\n",
       " '_cache',\n",
       " '_compile',\n",
       " '_compile_repl',\n",
       " '_expand',\n",
       " '_locale',\n",
       " '_pattern_type',\n",
       " '_pickle',\n",
       " '_subx',\n",
       " 'compile',\n",
       " 'copyreg',\n",
       " 'enum',\n",
       " 'error',\n",
       " 'escape',\n",
       " 'findall',\n",
       " 'finditer',\n",
       " 'fullmatch',\n",
       " 'functools',\n",
       " 'match',\n",
       " 'purge',\n",
       " 'search',\n",
       " 'split',\n",
       " 'sre_compile',\n",
       " 'sre_parse',\n",
       " 'sub',\n",
       " 'subn',\n",
       " 'template']"
      ]
     },
     "execution_count": 14,
     "metadata": {},
     "output_type": "execute_result"
    }
   ],
   "source": [
    "import re\n",
    "dir(re)"
   ]
  },
  {
   "cell_type": "markdown",
   "metadata": {},
   "source": [
    "# Syntax:\n",
    "- re.methodname(pattern,data)\n",
    "- paattern is format of required output\n",
    "- data is given values\n"
   ]
  },
  {
   "cell_type": "code",
   "execution_count": 18,
   "metadata": {},
   "outputs": [
    {
     "data": {
      "text/plain": [
       "True"
      ]
     },
     "execution_count": 18,
     "metadata": {},
     "output_type": "execute_result"
    }
   ],
   "source": [
    "s='aabcd'\n",
    "'a' in s"
   ]
  },
  {
   "cell_type": "code",
   "execution_count": 19,
   "metadata": {},
   "outputs": [
    {
     "data": {
      "text/plain": [
       "<_sre.SRE_Match object; span=(0, 2), match='aa'>"
      ]
     },
     "execution_count": 19,
     "metadata": {},
     "output_type": "execute_result"
    }
   ],
   "source": [
    "re.search('aa',s)"
   ]
  },
  {
   "cell_type": "code",
   "execution_count": 20,
   "metadata": {},
   "outputs": [
    {
     "data": {
      "text/plain": [
       "<_sre.SRE_Match object; span=(0, 2), match='aa'>"
      ]
     },
     "execution_count": 20,
     "metadata": {},
     "output_type": "execute_result"
    }
   ],
   "source": [
    "re.match('aa',s)"
   ]
  },
  {
   "cell_type": "code",
   "execution_count": 21,
   "metadata": {},
   "outputs": [
    {
     "data": {
      "text/plain": [
       "<_sre.SRE_Match object; span=(1, 3), match='ab'>"
      ]
     },
     "execution_count": 21,
     "metadata": {},
     "output_type": "execute_result"
    }
   ],
   "source": [
    "re.search('ab',s)"
   ]
  },
  {
   "cell_type": "code",
   "execution_count": 24,
   "metadata": {},
   "outputs": [
    {
     "data": {
      "text/plain": [
       "['a', 'a']"
      ]
     },
     "execution_count": 24,
     "metadata": {},
     "output_type": "execute_result"
    }
   ],
   "source": [
    "re.findall('a',s)"
   ]
  },
  {
   "cell_type": "markdown",
   "metadata": {},
   "source": [
    "# special symbols\n",
    "- .(dot)--> it matches any single character\n",
    "\n"
   ]
  },
  {
   "cell_type": "code",
   "execution_count": 32,
   "metadata": {},
   "outputs": [
    {
     "name": "stdout",
     "output_type": "stream",
     "text": [
      "abc\n",
      "aca\n",
      "aaa\n",
      "abcd\n"
     ]
    }
   ],
   "source": [
    "l=['abc','aca','aaa','abcd','']\n",
    "for i in l:\n",
    "    if re.search('.',i):\n",
    "        print(i)"
   ]
  },
  {
   "cell_type": "code",
   "execution_count": 34,
   "metadata": {},
   "outputs": [
    {
     "name": "stdout",
     "output_type": "stream",
     "text": [
      "abc\n",
      "aca\n",
      "aaa\n",
      "abcd\n"
     ]
    }
   ],
   "source": [
    "l=['abc','aca','aaa','abcd']\n",
    "for i in l:\n",
    "    if len(i)==3 or len(i)==4:\n",
    "        print(i)"
   ]
  },
  {
   "cell_type": "code",
   "execution_count": 37,
   "metadata": {},
   "outputs": [
    {
     "name": "stdout",
     "output_type": "stream",
     "text": [
      "abc\n",
      "aca\n",
      "aaa\n",
      "abcd\n"
     ]
    }
   ],
   "source": [
    "for i in l:\n",
    "    if re.search('...',i):\n",
    "        print(i)"
   ]
  },
  {
   "cell_type": "markdown",
   "metadata": {},
   "source": [
    "# *(star)\n",
    "- minimum value is '0' and maximum value\n",
    "\n",
    "# +(plus)\n",
    "- minimum value is 1 and max is any\n",
    "# ^(statrswith)\n",
    "\n",
    "# $(endswith)\n",
    "\n",
    "# \\d  : digits\n",
    "\n",
    "# []  : only specified values\n",
    "\n",
    "# {}  : min,max values\n",
    "\n",
    "# \\  : Escape character"
   ]
  },
  {
   "cell_type": "code",
   "execution_count": 38,
   "metadata": {},
   "outputs": [
    {
     "name": "stdout",
     "output_type": "stream",
     "text": [
      "abc\n",
      "aca\n",
      "aaa\n",
      "abcd\n"
     ]
    }
   ],
   "source": [
    "for i in l:\n",
    "    if re.search('.*',i):\n",
    "        print(i)"
   ]
  },
  {
   "cell_type": "code",
   "execution_count": 43,
   "metadata": {},
   "outputs": [
    {
     "name": "stdout",
     "output_type": "stream",
     "text": [
      "abc\n",
      "aca\n",
      "aaa\n",
      "abcd\n"
     ]
    }
   ],
   "source": [
    "for i in l:\n",
    "    if re.search('a+',i):\n",
    "        print(i)"
   ]
  },
  {
   "cell_type": "code",
   "execution_count": 44,
   "metadata": {},
   "outputs": [
    {
     "name": "stdout",
     "output_type": "stream",
     "text": [
      "aca\n",
      "aaa\n"
     ]
    }
   ],
   "source": [
    "for i in l:\n",
    "    if re.search('a.+a',i):\n",
    "        print(i)"
   ]
  },
  {
   "cell_type": "code",
   "execution_count": 45,
   "metadata": {},
   "outputs": [
    {
     "name": "stdout",
     "output_type": "stream",
     "text": [
      "['abc', '123', 'hello', '456']\n"
     ]
    }
   ],
   "source": [
    "s='abc 123 hello 456'\n",
    "l=s.split()\n",
    "print(l)"
   ]
  },
  {
   "cell_type": "code",
   "execution_count": 48,
   "metadata": {},
   "outputs": [
    {
     "data": {
      "text/plain": [
       "579"
      ]
     },
     "execution_count": 48,
     "metadata": {},
     "output_type": "execute_result"
    }
   ],
   "source": [
    "s='abc 123 hello 456'\n",
    "pattern = '\\d+'\n",
    "b=re.findall(pattern,s)\n",
    "sum(list(map(int,b)))"
   ]
  },
  {
   "cell_type": "code",
   "execution_count": 52,
   "metadata": {},
   "outputs": [
    {
     "name": "stdout",
     "output_type": "stream",
     "text": [
      "niha\n",
      "teja\n",
      "soundarya\n",
      "gayathri\n",
      "pujitha\n"
     ]
    }
   ],
   "source": [
    "names=['niha','teja','soundarya','gayathri','pujitha']\n",
    "pattern='.{4}'\n",
    "for name in names:\n",
    "    if re.match(pattern,name):\n",
    "        print(name)"
   ]
  },
  {
   "cell_type": "code",
   "execution_count": 62,
   "metadata": {},
   "outputs": [
    {
     "name": "stdout",
     "output_type": "stream",
     "text": [
      "niha\n"
     ]
    }
   ],
   "source": [
    "names=['niha','teja','soundarya','gayathri','pujitha']\n",
    "pattern='^n.{3}$'\n",
    "for name in names:\n",
    "    if re.match(pattern,name):\n",
    "        print(name)"
   ]
  },
  {
   "cell_type": "code",
   "execution_count": 55,
   "metadata": {},
   "outputs": [
    {
     "name": "stdout",
     "output_type": "stream",
     "text": [
      "niha\n"
     ]
    }
   ],
   "source": [
    "names=['niha','teja','soundarya','gayathri','pujitha']\n",
    "pattern='^n.+'\n",
    "for name in names:\n",
    "    if re.match(pattern,name):\n",
    "        print(name)"
   ]
  },
  {
   "cell_type": "code",
   "execution_count": 63,
   "metadata": {},
   "outputs": [
    {
     "name": "stdout",
     "output_type": "stream",
     "text": [
      "niha\n",
      "teja\n"
     ]
    }
   ],
   "source": [
    "names=['niha','teja','soundarya','gayathri','pujitha']\n",
    "pattern='^.{4}$'\n",
    "for name in names:\n",
    "    if re.match(pattern,name):\n",
    "        print(name)"
   ]
  },
  {
   "cell_type": "code",
   "execution_count": 67,
   "metadata": {},
   "outputs": [
    {
     "name": "stdout",
     "output_type": "stream",
     "text": [
      "teja\n"
     ]
    }
   ],
   "source": [
    "names=['niha','teja','soundarya','gayathri','pujitha']\n",
    "pattern='^n.{3}$'\n",
    "pattern1='^[at].{3}$'\n",
    "for name in names:\n",
    "    if re.match(pattern1,name):\n",
    "        print(name)"
   ]
  },
  {
   "cell_type": "code",
   "execution_count": 72,
   "metadata": {},
   "outputs": [
    {
     "name": "stdout",
     "output_type": "stream",
     "text": [
      "gayathri\n"
     ]
    }
   ],
   "source": [
    "names=['niha','teja','soundarya','gayathri','pujitha']\n",
    "pattern='^n.{3}$'\n",
    "pattern1='^.+[ri]$'\n",
    "for name in names:\n",
    "    if re.match(pattern1,name):\n",
    "        print(name)"
   ]
  },
  {
   "cell_type": "code",
   "execution_count": 76,
   "metadata": {},
   "outputs": [
    {
     "name": "stdout",
     "output_type": "stream",
     "text": [
      "9989005747\n",
      "6300362677\n",
      "9848495311\n"
     ]
    }
   ],
   "source": [
    "# How to valid A phone number\n",
    "# 1. 10 digits\n",
    "# 2. satrts with 6-9\n",
    "\n",
    "numbers=['9989005747','6300362677','9848495311']\n",
    "pattern='^[6-9]\\d{9}$'\n",
    "for number in numbers:\n",
    "    if re.match(pattern,number):\n",
    "        print(number)"
   ]
  },
  {
   "cell_type": "code",
   "execution_count": 78,
   "metadata": {},
   "outputs": [
    {
     "name": "stdout",
     "output_type": "stream",
     "text": [
      "+919989005747\n",
      "+916300362677\n",
      "+919848495311\n"
     ]
    }
   ],
   "source": [
    "numbers=['+919989005747','+916300362677','+919848495311']\n",
    "pattern='^(\\+91)[6-9]\\d{9}$'\n",
    "for number in numbers:\n",
    "    if re.match(pattern,number):\n",
    "        print(number)"
   ]
  },
  {
   "cell_type": "code",
   "execution_count": 2,
   "metadata": {},
   "outputs": [
    {
     "name": "stdout",
     "output_type": "stream",
     "text": [
      "Enter mail: niha@gmail.com\n",
      "niha@gmail.com\n"
     ]
    }
   ],
   "source": [
    "import re\n",
    "mail=input(\"Enter mail: \")\n",
    "pattern='^[A-Za-z]{1,15}\\d{0,10}[@](gmail.com)$'\n",
    "if re.match(pattern,mail):\n",
    "    print(mail)"
   ]
  },
  {
   "cell_type": "markdown",
   "metadata": {},
   "source": [
    "# OOps\n",
    "- class: blurprint or model of an object\n",
    "- object: physical entity whhich is having beaviour and action\n",
    "- constructor: special method which is used to create instance variables"
   ]
  },
  {
   "cell_type": "code",
   "execution_count": 3,
   "metadata": {},
   "outputs": [],
   "source": [
    "# create a class\n",
    "# class ClassName:\n",
    "  #variables\n",
    "  #metods"
   ]
  },
  {
   "cell_type": "code",
   "execution_count": 6,
   "metadata": {},
   "outputs": [
    {
     "name": "stdout",
     "output_type": "stream",
     "text": [
      "10\n"
     ]
    }
   ],
   "source": [
    "class Student:\n",
    "    x=10\n",
    "print(Student.x)"
   ]
  },
  {
   "cell_type": "code",
   "execution_count": 10,
   "metadata": {},
   "outputs": [
    {
     "data": {
      "text/plain": [
       "10"
      ]
     },
     "execution_count": 10,
     "metadata": {},
     "output_type": "execute_result"
    }
   ],
   "source": [
    "#create an object\n",
    "# rv = ClassName()\n",
    "s=Student()\n",
    "s.x"
   ]
  },
  {
   "cell_type": "code",
   "execution_count": null,
   "metadata": {},
   "outputs": [],
   "source": []
  }
 ],
 "metadata": {
  "kernelspec": {
   "display_name": "Python 3",
   "language": "python",
   "name": "python3"
  },
  "language_info": {
   "codemirror_mode": {
    "name": "ipython",
    "version": 3
   },
   "file_extension": ".py",
   "mimetype": "text/x-python",
   "name": "python",
   "nbconvert_exporter": "python",
   "pygments_lexer": "ipython3",
   "version": "3.6.5"
  }
 },
 "nbformat": 4,
 "nbformat_minor": 4
}
